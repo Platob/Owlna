{
 "cells": [
  {
   "cell_type": "code",
   "execution_count": null,
   "id": "303bc040-468e-4c83-991a-7b4ba1588bfd",
   "metadata": {},
   "outputs": [],
   "source": [
    "from owlna import Athena\n",
    "athena = Athena()\n",
    "athena"
   ]
  },
  {
   "cell_type": "code",
   "execution_count": null,
   "id": "568f9a4f-73c5-4094-a286-fff6129e4f1f",
   "metadata": {},
   "outputs": [],
   "source": [
    "with athena.connect(\n",
    "    query_options={\"WorkGroup\": \"WorkGroup\"}\n",
    ") as connection:\n",
    "    with connection.cursor() as cursor:\n",
    "        cursor.execute(\"\"\"SELECT * as c FROM \"unittest\".\"pyathena_unittest\" limit 10;\"\"\", wait=0.5)\n",
    "        meta = cursor.client.get_query_results(\n",
    "                        QueryExecutionId=cursor.id, MaxResults=1\n",
    "                    )[\"ResultSet\"][\"ResultSetMetadata\"][\"ColumnInfo\"]\n",
    "        schema = cursor.schema_arrow\n",
    "        \n",
    "        for batch in cursor.fetch_arrow_batches():\n",
    "            print(batch)"
   ]
  }
 ],
 "metadata": {
  "kernelspec": {
   "display_name": "Python 3 (ipykernel)",
   "language": "python",
   "name": "python3"
  },
  "language_info": {
   "codemirror_mode": {
    "name": "ipython",
    "version": 3
   },
   "file_extension": ".py",
   "mimetype": "text/x-python",
   "name": "python",
   "nbconvert_exporter": "python",
   "pygments_lexer": "ipython3",
   "version": "3.9.12"
  }
 },
 "nbformat": 4,
 "nbformat_minor": 5
}
