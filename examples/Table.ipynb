{
 "cells": [
  {
   "cell_type": "code",
   "execution_count": null,
   "id": "c76aade5-c119-4411-ab67-0ac5f70c7bba",
   "metadata": {},
   "outputs": [],
   "source": [
    "import boto3\n",
    "from owlna import Athena\n",
    "athena = Athena(session=boto3.Session())\n",
    "athena"
   ]
  },
  {
   "cell_type": "code",
   "execution_count": null,
   "id": "4febdbc6-6f28-422e-aa41-12812417d036",
   "metadata": {},
   "outputs": [],
   "source": [
    "with athena.connect() as connection:\n",
    "    # persists boto3 client\n",
    "    boto3_client = connection.client\n",
    "    \n",
    "    # get table\n",
    "    table = connection.table(catalog='AwsDataCatalog', database='unittest', name='pyathena_unittest')\n",
    "    \n",
    "    # insert arrow    \n",
    "    import pyarrow\n",
    "\n",
    "    data = pyarrow.RecordBatch.from_arrays(\n",
    "        [\n",
    "            pyarrow.array([None, \"pstring\"]),\n",
    "            pyarrow.array([None, 1]),\n",
    "            pyarrow.array([None, \"test\"]),\n",
    "            pyarrow.array([None, 10]),\n",
    "            pyarrow.array([\"2022-10-10 12:12:00.123Z\", \"2022-10-10 12:12:00.123456789Z\"]),\n",
    "            pyarrow.array([\"2022-10-10\", \"2022-10-12\"])\n",
    "        ],\n",
    "        schema=pyarrow.schema(\n",
    "            [\n",
    "                pyarrow.field(\"pstring\", pyarrow.string()),\n",
    "                pyarrow.field(\"pint\", pyarrow.int64()),\n",
    "                pyarrow.field(\"string\", pyarrow.string()),\n",
    "                pyarrow.field(\"int\", pyarrow.int32()),\n",
    "                pyarrow.field(\"timestamp\", pyarrow.string()),\n",
    "                pyarrow.field(\"date\", pyarrow.string())\n",
    "            ]\n",
    "        )\n",
    "    )\n",
    "    \n",
    "    # cf https://arrow.apache.org/docs/python/generated/pyarrow.dataset.write_dataset.html#pyarrow.dataset.write_dataset\n",
    "    \n",
    "    # existing_data_behavior = \"overwrite_or_ignore\" default will append\n",
    "    # existing_data_behavior = \"delete_matching\" to overwrite dir / partition dir\n",
    "    \n",
    "    table.insert_arrow_batch(\n",
    "        data,\n",
    "        base_dir=None, # put {\"key\": \"value\"} to append to table.location path\n",
    "        existing_data_behavior=\"overwrite_or_ignore\",\n",
    "        safe=False # safe casting to table.schema_arrow, default owlna.config.DEFAULT_SAFE_MODE\n",
    "    )"
   ]
  },
  {
   "cell_type": "code",
   "execution_count": null,
   "id": "b6cc28a1-c54d-4d00-9532-2437231cee9f",
   "metadata": {},
   "outputs": [],
   "source": [
    "with athena.connect() as connection:\n",
    "    # list tables\n",
    "    for table in connection.tables(\n",
    "        catalog='AwsDataCatalog', database='mad',\n",
    "        expression='*' # regex expression to match with name\n",
    "    ):\n",
    "        print(table.name)\n",
    "        print(table.schema_arrow)"
   ]
  },
  {
   "cell_type": "code",
   "execution_count": null,
   "id": "9c405002-3a95-4d15-9cff-62510254af07",
   "metadata": {},
   "outputs": [],
   "source": []
  }
 ],
 "metadata": {
  "kernelspec": {
   "display_name": "Python 3 (ipykernel)",
   "language": "python",
   "name": "python3"
  },
  "language_info": {
   "codemirror_mode": {
    "name": "ipython",
    "version": 3
   },
   "file_extension": ".py",
   "mimetype": "text/x-python",
   "name": "python",
   "nbconvert_exporter": "python",
   "pygments_lexer": "ipython3",
   "version": "3.9.12"
  }
 },
 "nbformat": 4,
 "nbformat_minor": 5
}
